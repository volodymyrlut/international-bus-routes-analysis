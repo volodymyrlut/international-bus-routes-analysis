{
 "cells": [
  {
   "cell_type": "markdown",
   "metadata": {},
   "source": [
    "Volodymyr Lut, UCU 2019\n",
    "\n",
    "### Data overview\n",
    "\n",
    "In this project the data from the [Ukrainian Open Data Portal](https://data.gov.ua) was used.\n",
    "\n",
    "The dataset contains information about international bus routes and bus stops in Ukraine. Under [this link](https://data.gov.ua/dataset/d5d79cf2-ccc7-40a9-9b7f-4c5cd0d061f9) two files are allocated: `international_routes_stops3.csv` (contains information about stops and schedule of international routes) and `international_routes.csv` (contains information about starting and destination points of the routes, along with schedules). Copies of those datasets (actual on Monday, June 10 2019) are contained under the `raw_data` directory of this repository."
   ]
  },
  {
   "cell_type": "code",
   "execution_count": 1,
   "metadata": {},
   "outputs": [],
   "source": [
    "import pandas as pd"
   ]
  },
  {
   "cell_type": "code",
   "execution_count": 2,
   "metadata": {},
   "outputs": [
    {
     "data": {
      "text/html": [
       "<div>\n",
       "<style scoped>\n",
       "    .dataframe tbody tr th:only-of-type {\n",
       "        vertical-align: middle;\n",
       "    }\n",
       "\n",
       "    .dataframe tbody tr th {\n",
       "        vertical-align: top;\n",
       "    }\n",
       "\n",
       "    .dataframe thead th {\n",
       "        text-align: right;\n",
       "    }\n",
       "</style>\n",
       "<table border=\"1\" class=\"dataframe\">\n",
       "  <thead>\n",
       "    <tr style=\"text-align: right;\">\n",
       "      <th></th>\n",
       "      <th>id</th>\n",
       "      <th>rejs_number</th>\n",
       "      <th>stop_city_name</th>\n",
       "      <th>stop_address</th>\n",
       "      <th>stop_code</th>\n",
       "      <th>route_frequency</th>\n",
       "      <th>distance_direct</th>\n",
       "      <th>arrival_direct</th>\n",
       "      <th>departure_direct</th>\n",
       "      <th>time_diff_direct</th>\n",
       "      <th>arrival_return</th>\n",
       "      <th>departure_return</th>\n",
       "      <th>time_diff_return</th>\n",
       "      <th>stop_number</th>\n",
       "      <th>Unnamed: 14</th>\n",
       "    </tr>\n",
       "  </thead>\n",
       "  <tbody>\n",
       "    <tr>\n",
       "      <th>0</th>\n",
       "      <td>CZ1357</td>\n",
       "      <td>1</td>\n",
       "      <td>Київ</td>\n",
       "      <td>вулиця Набережно-Печерська дорога, 10-а</td>\n",
       "      <td>3200000000</td>\n",
       "      <td>Щоденно</td>\n",
       "      <td>0</td>\n",
       "      <td>20:00</td>\n",
       "      <td>20:10</td>\n",
       "      <td>0</td>\n",
       "      <td>15:30</td>\n",
       "      <td>NaN</td>\n",
       "      <td>0</td>\n",
       "      <td>0.0</td>\n",
       "      <td>NaN</td>\n",
       "    </tr>\n",
       "    <tr>\n",
       "      <th>1</th>\n",
       "      <td>CZ1357</td>\n",
       "      <td>1</td>\n",
       "      <td>Київ</td>\n",
       "      <td>вул. С.Петлюри, 32</td>\n",
       "      <td>3200000000</td>\n",
       "      <td>Щоденно</td>\n",
       "      <td>12</td>\n",
       "      <td>20:30</td>\n",
       "      <td>21:00</td>\n",
       "      <td>0</td>\n",
       "      <td>14:40</td>\n",
       "      <td>15:00</td>\n",
       "      <td>0</td>\n",
       "      <td>1.0</td>\n",
       "      <td>NaN</td>\n",
       "    </tr>\n",
       "    <tr>\n",
       "      <th>2</th>\n",
       "      <td>CZ1357</td>\n",
       "      <td>1</td>\n",
       "      <td>Житомир</td>\n",
       "      <td>вул. Київська, 93</td>\n",
       "      <td>1810100000</td>\n",
       "      <td>Щоденно</td>\n",
       "      <td>140</td>\n",
       "      <td>23:20</td>\n",
       "      <td>23:40</td>\n",
       "      <td>0</td>\n",
       "      <td>12:50</td>\n",
       "      <td>13:00</td>\n",
       "      <td>0</td>\n",
       "      <td>2.0</td>\n",
       "      <td>NaN</td>\n",
       "    </tr>\n",
       "    <tr>\n",
       "      <th>3</th>\n",
       "      <td>CZ1357</td>\n",
       "      <td>1</td>\n",
       "      <td>Рівне</td>\n",
       "      <td>вул. Київська, 40</td>\n",
       "      <td>5610100000</td>\n",
       "      <td>Щоденно</td>\n",
       "      <td>328</td>\n",
       "      <td>2:50</td>\n",
       "      <td>3:10</td>\n",
       "      <td>0</td>\n",
       "      <td>10:30</td>\n",
       "      <td>10:40</td>\n",
       "      <td>0</td>\n",
       "      <td>3.0</td>\n",
       "      <td>NaN</td>\n",
       "    </tr>\n",
       "    <tr>\n",
       "      <th>4</th>\n",
       "      <td>CZ1357</td>\n",
       "      <td>1</td>\n",
       "      <td>Львів</td>\n",
       "      <td>вул. Стрийська, 109</td>\n",
       "      <td>4610100000</td>\n",
       "      <td>Щоденно</td>\n",
       "      <td>539</td>\n",
       "      <td>6:10</td>\n",
       "      <td>6:30</td>\n",
       "      <td>0</td>\n",
       "      <td>8:35</td>\n",
       "      <td>8:50</td>\n",
       "      <td>0</td>\n",
       "      <td>4.0</td>\n",
       "      <td>NaN</td>\n",
       "    </tr>\n",
       "  </tbody>\n",
       "</table>\n",
       "</div>"
      ],
      "text/plain": [
       "       id rejs_number stop_city_name                             stop_address  \\\n",
       "0  CZ1357           1           Київ  вулиця Набережно-Печерська дорога, 10-а   \n",
       "1  CZ1357           1           Київ                       вул. С.Петлюри, 32   \n",
       "2  CZ1357           1        Житомир                        вул. Київська, 93   \n",
       "3  CZ1357           1          Рівне                        вул. Київська, 40   \n",
       "4  CZ1357           1          Львів                      вул. Стрийська, 109   \n",
       "\n",
       "    stop_code route_frequency distance_direct arrival_direct departure_direct  \\\n",
       "0  3200000000         Щоденно               0          20:00            20:10   \n",
       "1  3200000000         Щоденно              12          20:30            21:00   \n",
       "2  1810100000         Щоденно             140          23:20            23:40   \n",
       "3  5610100000         Щоденно             328           2:50             3:10   \n",
       "4  4610100000         Щоденно             539           6:10             6:30   \n",
       "\n",
       "  time_diff_direct arrival_return departure_return time_diff_return  \\\n",
       "0                0          15:30              NaN                0   \n",
       "1                0          14:40            15:00                0   \n",
       "2                0          12:50            13:00                0   \n",
       "3                0          10:30            10:40                0   \n",
       "4                0           8:35             8:50                0   \n",
       "\n",
       "   stop_number  Unnamed: 14  \n",
       "0          0.0          NaN  \n",
       "1          1.0          NaN  \n",
       "2          2.0          NaN  \n",
       "3          3.0          NaN  \n",
       "4          4.0          NaN  "
      ]
     },
     "execution_count": 2,
     "metadata": {},
     "output_type": "execute_result"
    }
   ],
   "source": [
    "stops = pd.read_csv('./raw_data/international_routes_stops3.csv', sep=';', encoding='windows-1251')\n",
    "stops.head()"
   ]
  },
  {
   "cell_type": "code",
   "execution_count": 3,
   "metadata": {},
   "outputs": [
    {
     "data": {
      "text/html": [
       "<div>\n",
       "<style scoped>\n",
       "    .dataframe tbody tr th:only-of-type {\n",
       "        vertical-align: middle;\n",
       "    }\n",
       "\n",
       "    .dataframe tbody tr th {\n",
       "        vertical-align: top;\n",
       "    }\n",
       "\n",
       "    .dataframe thead th {\n",
       "        text-align: right;\n",
       "    }\n",
       "</style>\n",
       "<table border=\"1\" class=\"dataframe\">\n",
       "  <thead>\n",
       "    <tr style=\"text-align: right;\">\n",
       "      <th></th>\n",
       "      <th>permision_delivery_date</th>\n",
       "      <th>n/o</th>\n",
       "      <th>id</th>\n",
       "      <th>march_route_name</th>\n",
       "      <th>company_name</th>\n",
       "      <th>company_name_external</th>\n",
       "      <th>border_crossing</th>\n",
       "      <th>border_crossing_alternative</th>\n",
       "      <th>march_route_time_direct</th>\n",
       "      <th>march_route_time_return</th>\n",
       "      <th>march_route_regularity</th>\n",
       "      <th>license_terms</th>\n",
       "      <th>destionation_country_name</th>\n",
       "      <th>destionation_country_code</th>\n",
       "      <th>march_route_status</th>\n",
       "    </tr>\n",
       "  </thead>\n",
       "  <tbody>\n",
       "    <tr>\n",
       "      <th>0</th>\n",
       "      <td>NaN</td>\n",
       "      <td>3</td>\n",
       "      <td>MD3</td>\n",
       "      <td>АК АЕРОПОРТ БОРИСПІЛЬ (вул. Бориспільська, 7) ...</td>\n",
       "      <td>ФОП Гергі Є.М.</td>\n",
       "      <td>S.R.L. \"SARVALTEH AUTO\"</td>\n",
       "      <td>Табаки</td>\n",
       "      <td>16:00</td>\n",
       "      <td>16:00</td>\n",
       "      <td>NaN</td>\n",
       "      <td>Щоденно</td>\n",
       "      <td>2020-02-08 00:00:00</td>\n",
       "      <td>Молдова</td>\n",
       "      <td>MD</td>\n",
       "      <td>True</td>\n",
       "    </tr>\n",
       "    <tr>\n",
       "      <th>1</th>\n",
       "      <td>NaN</td>\n",
       "      <td>8</td>\n",
       "      <td>MD8</td>\n",
       "      <td>Балта АС (вул. Уварова, 38а) - Дубосари</td>\n",
       "      <td>ПП Фаворіт 65005, м. Одеса, вул. Бугаївська, 2...</td>\n",
       "      <td>ОАО \"Дубоссарское автотранспортное предприятие...</td>\n",
       "      <td>Платоново</td>\n",
       "      <td>NaN</td>\n",
       "      <td>NaN</td>\n",
       "      <td>NaN</td>\n",
       "      <td>NaN</td>\n",
       "      <td>2020-06-07 00:00:00</td>\n",
       "      <td>Молдова</td>\n",
       "      <td>MD</td>\n",
       "      <td>True</td>\n",
       "    </tr>\n",
       "    <tr>\n",
       "      <th>2</th>\n",
       "      <td>05.06.2018</td>\n",
       "      <td>11</td>\n",
       "      <td>RU11</td>\n",
       "      <td>Бахмут-Москва</td>\n",
       "      <td>ТОВ\"Форум Авто\"|ФОП\"Мелкумян Ю.О.\"</td>\n",
       "      <td>ООО\"Газавторемонт\"</td>\n",
       "      <td>Гоптівка</td>\n",
       "      <td>Плетенівка</td>\n",
       "      <td>16:50</td>\n",
       "      <td>16:50</td>\n",
       "      <td>Щоденно</td>\n",
       "      <td>2019-07-20 00:00:00</td>\n",
       "      <td>Росія</td>\n",
       "      <td>RU</td>\n",
       "      <td>True</td>\n",
       "    </tr>\n",
       "    <tr>\n",
       "      <th>3</th>\n",
       "      <td>NaN</td>\n",
       "      <td>12</td>\n",
       "      <td>RU12</td>\n",
       "      <td>Бахмут (АС вул. Космонавтів,5)-Москва (Новоясе...</td>\n",
       "      <td>ТОВ \"СЕВЕР-АВТО\"</td>\n",
       "      <td>без паритету</td>\n",
       "      <td>Плетенівка</td>\n",
       "      <td>NaN</td>\n",
       "      <td>NaN</td>\n",
       "      <td>NaN</td>\n",
       "      <td>NaN</td>\n",
       "      <td>2019-02-28 00:00:00</td>\n",
       "      <td>Росія</td>\n",
       "      <td>RU</td>\n",
       "      <td>True</td>\n",
       "    </tr>\n",
       "    <tr>\n",
       "      <th>4</th>\n",
       "      <td>NaN</td>\n",
       "      <td>13</td>\n",
       "      <td>RU13</td>\n",
       "      <td>Бахму - Москва</td>\n",
       "      <td>ФОП Базілєвський В.О.</td>\n",
       "      <td>ООО \"Горизон-Тур\"</td>\n",
       "      <td>Танюшівка</td>\n",
       "      <td>NaN</td>\n",
       "      <td>19:30</td>\n",
       "      <td>15:30</td>\n",
       "      <td>Щоденно</td>\n",
       "      <td>2019-01-07 00:00:00</td>\n",
       "      <td>Росія</td>\n",
       "      <td>RU</td>\n",
       "      <td>True</td>\n",
       "    </tr>\n",
       "  </tbody>\n",
       "</table>\n",
       "</div>"
      ],
      "text/plain": [
       "  permision_delivery_date  n/o    id  \\\n",
       "0                     NaN    3   MD3   \n",
       "1                     NaN    8   MD8   \n",
       "2              05.06.2018   11  RU11   \n",
       "3                     NaN   12  RU12   \n",
       "4                     NaN   13  RU13   \n",
       "\n",
       "                                    march_route_name  \\\n",
       "0  АК АЕРОПОРТ БОРИСПІЛЬ (вул. Бориспільська, 7) ...   \n",
       "1            Балта АС (вул. Уварова, 38а) - Дубосари   \n",
       "2                                      Бахмут-Москва   \n",
       "3  Бахмут (АС вул. Космонавтів,5)-Москва (Новоясе...   \n",
       "4                                    Бахму - Москва    \n",
       "\n",
       "                                        company_name  \\\n",
       "0                                     ФОП Гергі Є.М.   \n",
       "1  ПП Фаворіт 65005, м. Одеса, вул. Бугаївська, 2...   \n",
       "2                 ТОВ\"Форум Авто\"|ФОП\"Мелкумян Ю.О.\"   \n",
       "3                                   ТОВ \"СЕВЕР-АВТО\"   \n",
       "4                              ФОП Базілєвський В.О.   \n",
       "\n",
       "                               company_name_external border_crossing  \\\n",
       "0                            S.R.L. \"SARVALTEH AUTO\"          Табаки   \n",
       "1  ОАО \"Дубоссарское автотранспортное предприятие...       Платоново   \n",
       "2                                 ООО\"Газавторемонт\"        Гоптівка   \n",
       "3                                       без паритету      Плетенівка   \n",
       "4                                  ООО \"Горизон-Тур\"       Танюшівка   \n",
       "\n",
       "  border_crossing_alternative march_route_time_direct march_route_time_return  \\\n",
       "0                       16:00                   16:00                     NaN   \n",
       "1                         NaN                     NaN                     NaN   \n",
       "2                  Плетенівка                   16:50                   16:50   \n",
       "3                         NaN                     NaN                     NaN   \n",
       "4                         NaN                   19:30                   15:30   \n",
       "\n",
       "  march_route_regularity        license_terms destionation_country_name  \\\n",
       "0                Щоденно  2020-02-08 00:00:00                   Молдова   \n",
       "1                    NaN  2020-06-07 00:00:00                   Молдова   \n",
       "2                Щоденно  2019-07-20 00:00:00                     Росія   \n",
       "3                    NaN  2019-02-28 00:00:00                     Росія   \n",
       "4                Щоденно  2019-01-07 00:00:00                     Росія   \n",
       "\n",
       "  destionation_country_code  march_route_status  \n",
       "0                        MD                True  \n",
       "1                        MD                True  \n",
       "2                        RU                True  \n",
       "3                        RU                True  \n",
       "4                        RU                True  "
      ]
     },
     "execution_count": 3,
     "metadata": {},
     "output_type": "execute_result"
    }
   ],
   "source": [
    "routes = pd.read_csv('./raw_data/international_routes.csv')\n",
    "routes.head()"
   ]
  },
  {
   "cell_type": "markdown",
   "metadata": {},
   "source": [
    "In this project file `international_routes_stops3.csv` will be used. It should be filtered - in this research I'm interested only in routes, which are heading to Poland. \n",
    "\n",
    "**Explanation of useful columns:**\n",
    "\n",
    "1. *ID* decodes the bus line id - when checking this ID in the `international_routes.csv` dataset, one could determine line operator's comoany name, information about it's license, border crossing point etc.\n",
    "\n",
    "2. *stop_city_name* together with *stop_address* will be used to determine geolocation of the stop, which will be used for visualisation on maps.\n",
    "\n",
    "3. *stop_number* is a column which will be used to determine the position of the stop in the route."
   ]
  },
  {
   "cell_type": "code",
   "execution_count": 4,
   "metadata": {},
   "outputs": [
    {
     "data": {
      "text/plain": [
       "(6446, 15)"
      ]
     },
     "execution_count": 4,
     "metadata": {},
     "output_type": "execute_result"
    }
   ],
   "source": [
    "### Filtering out Polish routes\n",
    "pol = stops[stops.id.str[:2].str.upper() == 'PL']\n",
    "pol = pol.dropna(subset=['stop_city_name', 'stop_address'])\n",
    "pol.shape"
   ]
  },
  {
   "cell_type": "code",
   "execution_count": 5,
   "metadata": {},
   "outputs": [],
   "source": [
    "import numpy as np"
   ]
  },
  {
   "cell_type": "code",
   "execution_count": 6,
   "metadata": {},
   "outputs": [
    {
     "data": {
      "text/plain": [
       "(482,)"
      ]
     },
     "execution_count": 6,
     "metadata": {},
     "output_type": "execute_result"
    }
   ],
   "source": [
    "np.unique(pol.id).shape"
   ]
  },
  {
   "cell_type": "markdown",
   "metadata": {},
   "source": [
    "There are **6446 stops** belonging to **482 bus lines** heading to Poland after clearing the data."
   ]
  },
  {
   "cell_type": "markdown",
   "metadata": {},
   "source": [
    "### Data Mining\n",
    "\n",
    "For visualizations we need to know the exact location of every bus stop. In order to scrape this data, [Google Maps API](https://developers.google.com/maps) will be used."
   ]
  },
  {
   "cell_type": "code",
   "execution_count": 7,
   "metadata": {},
   "outputs": [
    {
     "data": {
      "text/html": [
       "<div>\n",
       "<style scoped>\n",
       "    .dataframe tbody tr th:only-of-type {\n",
       "        vertical-align: middle;\n",
       "    }\n",
       "\n",
       "    .dataframe tbody tr th {\n",
       "        vertical-align: top;\n",
       "    }\n",
       "\n",
       "    .dataframe thead th {\n",
       "        text-align: right;\n",
       "    }\n",
       "</style>\n",
       "<table border=\"1\" class=\"dataframe\">\n",
       "  <thead>\n",
       "    <tr style=\"text-align: right;\">\n",
       "      <th></th>\n",
       "      <th>id</th>\n",
       "      <th>rejs_number</th>\n",
       "      <th>stop_city_name</th>\n",
       "      <th>stop_address</th>\n",
       "      <th>stop_code</th>\n",
       "      <th>route_frequency</th>\n",
       "      <th>distance_direct</th>\n",
       "      <th>arrival_direct</th>\n",
       "      <th>departure_direct</th>\n",
       "      <th>time_diff_direct</th>\n",
       "      <th>arrival_return</th>\n",
       "      <th>departure_return</th>\n",
       "      <th>time_diff_return</th>\n",
       "      <th>stop_number</th>\n",
       "      <th>full_address</th>\n",
       "    </tr>\n",
       "  </thead>\n",
       "  <tbody>\n",
       "    <tr>\n",
       "      <th>2530</th>\n",
       "      <td>PL944</td>\n",
       "      <td>1</td>\n",
       "      <td>Жовква</td>\n",
       "      <td>пл. Коновальця 1</td>\n",
       "      <td>4622710100</td>\n",
       "      <td>Щоденно</td>\n",
       "      <td>0</td>\n",
       "      <td>4:20</td>\n",
       "      <td>4:40</td>\n",
       "      <td>0</td>\n",
       "      <td>14:55</td>\n",
       "      <td>NaN</td>\n",
       "      <td>0</td>\n",
       "      <td>0.0</td>\n",
       "      <td>Жовква, пл. Коновальця 1</td>\n",
       "    </tr>\n",
       "    <tr>\n",
       "      <th>2531</th>\n",
       "      <td>PL944</td>\n",
       "      <td>1</td>\n",
       "      <td>Рава Руська</td>\n",
       "      <td>вул. Двірцева, 4</td>\n",
       "      <td>4622710400</td>\n",
       "      <td>Щоденно</td>\n",
       "      <td>32</td>\n",
       "      <td>5:25</td>\n",
       "      <td>5:30</td>\n",
       "      <td>0</td>\n",
       "      <td>14:05</td>\n",
       "      <td>14:10</td>\n",
       "      <td>0</td>\n",
       "      <td>1.0</td>\n",
       "      <td>Рава Руська, вул. Двірцева, 4</td>\n",
       "    </tr>\n",
       "    <tr>\n",
       "      <th>2534</th>\n",
       "      <td>PL944</td>\n",
       "      <td>1</td>\n",
       "      <td>Томашів Любельський</td>\n",
       "      <td>ul. Zamojska, 9</td>\n",
       "      <td>22-600</td>\n",
       "      <td>Щоденно</td>\n",
       "      <td>63</td>\n",
       "      <td>6:05</td>\n",
       "      <td>NaN</td>\n",
       "      <td>-1</td>\n",
       "      <td>11:00</td>\n",
       "      <td>11:30</td>\n",
       "      <td>0</td>\n",
       "      <td>4.0</td>\n",
       "      <td>Томашів Любельський, ul. Zamojska, 9</td>\n",
       "    </tr>\n",
       "    <tr>\n",
       "      <th>2535</th>\n",
       "      <td>PL944</td>\n",
       "      <td>2</td>\n",
       "      <td>Жовква</td>\n",
       "      <td>пл. Коновальця 1</td>\n",
       "      <td>4622710100</td>\n",
       "      <td>Щоденно</td>\n",
       "      <td>0</td>\n",
       "      <td>21:50</td>\n",
       "      <td>22:10</td>\n",
       "      <td>0</td>\n",
       "      <td>6:25</td>\n",
       "      <td>NaN</td>\n",
       "      <td>0</td>\n",
       "      <td>5.0</td>\n",
       "      <td>Жовква, пл. Коновальця 1</td>\n",
       "    </tr>\n",
       "    <tr>\n",
       "      <th>2536</th>\n",
       "      <td>PL944</td>\n",
       "      <td>2</td>\n",
       "      <td>Рава Руська</td>\n",
       "      <td>вул. Двірцева, 4</td>\n",
       "      <td>4622710400</td>\n",
       "      <td>Щоденно</td>\n",
       "      <td>32</td>\n",
       "      <td>22:55</td>\n",
       "      <td>23:00</td>\n",
       "      <td>0</td>\n",
       "      <td>5:35</td>\n",
       "      <td>5:40</td>\n",
       "      <td>0</td>\n",
       "      <td>6.0</td>\n",
       "      <td>Рава Руська, вул. Двірцева, 4</td>\n",
       "    </tr>\n",
       "  </tbody>\n",
       "</table>\n",
       "</div>"
      ],
      "text/plain": [
       "         id rejs_number       stop_city_name      stop_address   stop_code  \\\n",
       "2530  PL944           1               Жовква  пл. Коновальця 1  4622710100   \n",
       "2531  PL944           1          Рава Руська  вул. Двірцева, 4  4622710400   \n",
       "2534  PL944           1  Томашів Любельський   ul. Zamojska, 9      22-600   \n",
       "2535  PL944           2               Жовква  пл. Коновальця 1  4622710100   \n",
       "2536  PL944           2          Рава Руська  вул. Двірцева, 4  4622710400   \n",
       "\n",
       "     route_frequency distance_direct arrival_direct departure_direct  \\\n",
       "2530         Щоденно               0           4:20             4:40   \n",
       "2531         Щоденно              32           5:25             5:30   \n",
       "2534         Щоденно              63           6:05              NaN   \n",
       "2535         Щоденно               0          21:50            22:10   \n",
       "2536         Щоденно              32          22:55            23:00   \n",
       "\n",
       "     time_diff_direct arrival_return departure_return time_diff_return  \\\n",
       "2530                0          14:55              NaN                0   \n",
       "2531                0          14:05            14:10                0   \n",
       "2534               -1          11:00            11:30                0   \n",
       "2535                0           6:25              NaN                0   \n",
       "2536                0           5:35             5:40                0   \n",
       "\n",
       "      stop_number                          full_address  \n",
       "2530          0.0              Жовква, пл. Коновальця 1  \n",
       "2531          1.0         Рава Руська, вул. Двірцева, 4  \n",
       "2534          4.0  Томашів Любельський, ul. Zamojska, 9  \n",
       "2535          5.0              Жовква, пл. Коновальця 1  \n",
       "2536          6.0         Рава Руська, вул. Двірцева, 4  "
      ]
     },
     "execution_count": 7,
     "metadata": {},
     "output_type": "execute_result"
    }
   ],
   "source": [
    "pol = pol.drop(\"Unnamed: 14\", axis=1)\n",
    "pol = pol.assign(full_address=(pol.stop_city_name + ', ' + pol.stop_address).values)\n",
    "pol.head()"
   ]
  },
  {
   "cell_type": "code",
   "execution_count": 8,
   "metadata": {},
   "outputs": [
    {
     "data": {
      "text/plain": [
       "(2080,)"
      ]
     },
     "execution_count": 8,
     "metadata": {},
     "output_type": "execute_result"
    }
   ],
   "source": [
    "np.unique(pol.full_address).shape"
   ]
  },
  {
   "cell_type": "code",
   "execution_count": 9,
   "metadata": {},
   "outputs": [],
   "source": [
    "import googlemaps\n",
    "import re\n",
    "# Uncomment line below and paste your key there\n",
    "# gmaps = googlemaps.Client(key='<YOUR KEY HERE>')"
   ]
  },
  {
   "cell_type": "code",
   "execution_count": 41,
   "metadata": {},
   "outputs": [],
   "source": [
    "from tqdm import tqdm"
   ]
  },
  {
   "cell_type": "code",
   "execution_count": 73,
   "metadata": {},
   "outputs": [
    {
     "name": "stderr",
     "output_type": "stream",
     "text": [
      "100%|██████████| 2080/2080 [18:28<00:00,  1.77it/s]\n"
     ]
    }
   ],
   "source": [
    "# Use this code to scrape geocoding data and save it to file\n",
    "geocoded_addresses = []\n",
    "for address in tqdm(np.unique(pol.full_address)):\n",
    "    geocode_result = gmaps.geocode(address)\n",
    "    geocoded_addresses.append(geocode_result)\n",
    "np.savetxt(\"geocoded.tmp\", geocoded_addresses, fmt='%s')"
   ]
  },
  {
   "cell_type": "code",
   "execution_count": 11,
   "metadata": {},
   "outputs": [],
   "source": [
    "import json"
   ]
  },
  {
   "cell_type": "code",
   "execution_count": 12,
   "metadata": {},
   "outputs": [],
   "source": [
    "# Use this code to restore geocoding data from file\n",
    "with open('geocoded.tmp') as fp:  \n",
    "    geocoded_addresses = []   \n",
    "    geocode_result = fp.readline()\n",
    "    i = 0\n",
    "    while geocode_result:\n",
    "        geocode_result = geocode_result.replace(\"Boryspil'\", \"Boryspil\")\n",
    "        geocode_result = re.sub(\"(?<=[a-z])'(?=[a-z])\", \"\", geocode_result, flags=re.IGNORECASE).replace(\"True\", '\"true\"').replace(\"False\", '\"false\"').replace(\"'\", '\"').replace('\"\"', '\"').replace('\"-', '-')\n",
    "        geocode_result = re.sub('(?<=[a-z]) \"(?=[a-z])', \" \", geocode_result, flags=re.IGNORECASE)\n",
    "        geocode_result = re.sub('(?<=[a-z])\" (?=[a-z])', \" \", geocode_result, flags=re.IGNORECASE)\n",
    "        geocode_result = re.sub('(?<=[a-z])\", (?=[a-z])', \" \", geocode_result, flags=re.IGNORECASE)\n",
    "        if(i == 735):\n",
    "            print(geocode_result)\n",
    "        geocoded_addresses.append(json.loads(geocode_result))\n",
    "        geocode_result = fp.readline()"
   ]
  },
  {
   "cell_type": "code",
   "execution_count": 50,
   "metadata": {},
   "outputs": [
    {
     "ename": "TypeError",
     "evalue": "'(array([ 187, 2501]),)' is an invalid key",
     "output_type": "error",
     "traceback": [
      "\u001b[0;31m--------------------------------------------------------\u001b[0m",
      "\u001b[0;31mTypeError\u001b[0m              Traceback (most recent call last)",
      "\u001b[0;32m<ipython-input-50-91e3cfaa3285>\u001b[0m in \u001b[0;36m<module>\u001b[0;34m()\u001b[0m\n\u001b[1;32m      2\u001b[0m \u001b[0;32mfor\u001b[0m \u001b[0;34m(\u001b[0m\u001b[0mi\u001b[0m\u001b[0;34m,\u001b[0m \u001b[0maddress\u001b[0m\u001b[0;34m)\u001b[0m \u001b[0;32min\u001b[0m \u001b[0menumerate\u001b[0m\u001b[0;34m(\u001b[0m\u001b[0mnp\u001b[0m\u001b[0;34m.\u001b[0m\u001b[0munique\u001b[0m\u001b[0;34m(\u001b[0m\u001b[0mpol\u001b[0m\u001b[0;34m.\u001b[0m\u001b[0mfull_address\u001b[0m\u001b[0;34m)\u001b[0m\u001b[0;34m)\u001b[0m\u001b[0;34m:\u001b[0m\u001b[0;34m\u001b[0m\u001b[0m\n\u001b[1;32m      3\u001b[0m     \u001b[0mindices\u001b[0m \u001b[0;34m=\u001b[0m \u001b[0mnp\u001b[0m\u001b[0;34m.\u001b[0m\u001b[0mwhere\u001b[0m\u001b[0;34m(\u001b[0m\u001b[0mpol\u001b[0m\u001b[0;34m.\u001b[0m\u001b[0mfull_address\u001b[0m\u001b[0;34m==\u001b[0m\u001b[0maddress\u001b[0m\u001b[0;34m)\u001b[0m\u001b[0;34m\u001b[0m\u001b[0m\n\u001b[0;32m----> 4\u001b[0;31m     \u001b[0mpol\u001b[0m\u001b[0;34m[\u001b[0m\u001b[0mindices\u001b[0m\u001b[0;34m]\u001b[0m\u001b[0;34m.\u001b[0m\u001b[0mlat\u001b[0m \u001b[0;34m=\u001b[0m \u001b[0mgeocoded_addresses\u001b[0m\u001b[0;34m[\u001b[0m\u001b[0mi\u001b[0m\u001b[0;34m]\u001b[0m\u001b[0;34m[\u001b[0m\u001b[0;36m0\u001b[0m\u001b[0;34m]\u001b[0m\u001b[0;34m[\u001b[0m\u001b[0;34m'geometry'\u001b[0m\u001b[0;34m]\u001b[0m\u001b[0;34m[\u001b[0m\u001b[0;34m'location'\u001b[0m\u001b[0;34m]\u001b[0m\u001b[0;34m[\u001b[0m\u001b[0;34m'lat'\u001b[0m\u001b[0;34m]\u001b[0m\u001b[0;34m\u001b[0m\u001b[0m\n\u001b[0m\u001b[1;32m      5\u001b[0m     \u001b[0mpol\u001b[0m\u001b[0;34m[\u001b[0m\u001b[0mindices\u001b[0m\u001b[0;34m]\u001b[0m\u001b[0;34m.\u001b[0m\u001b[0mlng\u001b[0m \u001b[0;34m=\u001b[0m \u001b[0mgeocoded_addresses\u001b[0m\u001b[0;34m[\u001b[0m\u001b[0mi\u001b[0m\u001b[0;34m]\u001b[0m\u001b[0;34m[\u001b[0m\u001b[0;36m0\u001b[0m\u001b[0;34m]\u001b[0m\u001b[0;34m[\u001b[0m\u001b[0;34m'geometry'\u001b[0m\u001b[0;34m]\u001b[0m\u001b[0;34m[\u001b[0m\u001b[0;34m'location'\u001b[0m\u001b[0;34m]\u001b[0m\u001b[0;34m[\u001b[0m\u001b[0;34m'lng'\u001b[0m\u001b[0;34m]\u001b[0m\u001b[0;34m\u001b[0m\u001b[0m\n\u001b[1;32m      6\u001b[0m     \u001b[0mpol\u001b[0m\u001b[0;34m[\u001b[0m\u001b[0mindices\u001b[0m\u001b[0;34m]\u001b[0m\u001b[0;34m.\u001b[0m\u001b[0mcountry\u001b[0m \u001b[0;34m=\u001b[0m \u001b[0mgeocoded_addresses\u001b[0m\u001b[0;34m[\u001b[0m\u001b[0mi\u001b[0m\u001b[0;34m]\u001b[0m\u001b[0;34m[\u001b[0m\u001b[0;36m0\u001b[0m\u001b[0;34m]\u001b[0m\u001b[0;34m[\u001b[0m\u001b[0;34m'address_components'\u001b[0m\u001b[0;34m]\u001b[0m\u001b[0;34m[\u001b[0m\u001b[0;34m-\u001b[0m\u001b[0;36m2\u001b[0m\u001b[0;34m]\u001b[0m\u001b[0;34m[\u001b[0m\u001b[0;34m'long_name'\u001b[0m\u001b[0;34m]\u001b[0m\u001b[0;34m\u001b[0m\u001b[0m\n",
      "\u001b[0;32m/Library/Frameworks/Python.framework/Versions/3.6/lib/python3.6/site-packages/pandas/core/frame.py\u001b[0m in \u001b[0;36m__getitem__\u001b[0;34m(self, key)\u001b[0m\n\u001b[1;32m   2925\u001b[0m             \u001b[0;32mif\u001b[0m \u001b[0mself\u001b[0m\u001b[0;34m.\u001b[0m\u001b[0mcolumns\u001b[0m\u001b[0;34m.\u001b[0m\u001b[0mnlevels\u001b[0m \u001b[0;34m>\u001b[0m \u001b[0;36m1\u001b[0m\u001b[0;34m:\u001b[0m\u001b[0;34m\u001b[0m\u001b[0m\n\u001b[1;32m   2926\u001b[0m                 \u001b[0;32mreturn\u001b[0m \u001b[0mself\u001b[0m\u001b[0;34m.\u001b[0m\u001b[0m_getitem_multilevel\u001b[0m\u001b[0;34m(\u001b[0m\u001b[0mkey\u001b[0m\u001b[0;34m)\u001b[0m\u001b[0;34m\u001b[0m\u001b[0m\n\u001b[0;32m-> 2927\u001b[0;31m             \u001b[0mindexer\u001b[0m \u001b[0;34m=\u001b[0m \u001b[0mself\u001b[0m\u001b[0;34m.\u001b[0m\u001b[0mcolumns\u001b[0m\u001b[0;34m.\u001b[0m\u001b[0mget_loc\u001b[0m\u001b[0;34m(\u001b[0m\u001b[0mkey\u001b[0m\u001b[0;34m)\u001b[0m\u001b[0;34m\u001b[0m\u001b[0m\n\u001b[0m\u001b[1;32m   2928\u001b[0m             \u001b[0;32mif\u001b[0m \u001b[0mis_integer\u001b[0m\u001b[0;34m(\u001b[0m\u001b[0mindexer\u001b[0m\u001b[0;34m)\u001b[0m\u001b[0;34m:\u001b[0m\u001b[0;34m\u001b[0m\u001b[0m\n\u001b[1;32m   2929\u001b[0m                 \u001b[0mindexer\u001b[0m \u001b[0;34m=\u001b[0m \u001b[0;34m[\u001b[0m\u001b[0mindexer\u001b[0m\u001b[0;34m]\u001b[0m\u001b[0;34m\u001b[0m\u001b[0m\n",
      "\u001b[0;32m/Library/Frameworks/Python.framework/Versions/3.6/lib/python3.6/site-packages/pandas/core/indexes/base.py\u001b[0m in \u001b[0;36mget_loc\u001b[0;34m(self, key, method, tolerance)\u001b[0m\n\u001b[1;32m   2655\u001b[0m                                  'backfill or nearest lookups')\n\u001b[1;32m   2656\u001b[0m             \u001b[0;32mtry\u001b[0m\u001b[0;34m:\u001b[0m\u001b[0;34m\u001b[0m\u001b[0m\n\u001b[0;32m-> 2657\u001b[0;31m                 \u001b[0;32mreturn\u001b[0m \u001b[0mself\u001b[0m\u001b[0;34m.\u001b[0m\u001b[0m_engine\u001b[0m\u001b[0;34m.\u001b[0m\u001b[0mget_loc\u001b[0m\u001b[0;34m(\u001b[0m\u001b[0mkey\u001b[0m\u001b[0;34m)\u001b[0m\u001b[0;34m\u001b[0m\u001b[0m\n\u001b[0m\u001b[1;32m   2658\u001b[0m             \u001b[0;32mexcept\u001b[0m \u001b[0mKeyError\u001b[0m\u001b[0;34m:\u001b[0m\u001b[0;34m\u001b[0m\u001b[0m\n\u001b[1;32m   2659\u001b[0m                 \u001b[0;32mreturn\u001b[0m \u001b[0mself\u001b[0m\u001b[0;34m.\u001b[0m\u001b[0m_engine\u001b[0m\u001b[0;34m.\u001b[0m\u001b[0mget_loc\u001b[0m\u001b[0;34m(\u001b[0m\u001b[0mself\u001b[0m\u001b[0;34m.\u001b[0m\u001b[0m_maybe_cast_indexer\u001b[0m\u001b[0;34m(\u001b[0m\u001b[0mkey\u001b[0m\u001b[0;34m)\u001b[0m\u001b[0;34m)\u001b[0m\u001b[0;34m\u001b[0m\u001b[0m\n",
      "\u001b[0;32mpandas/_libs/index.pyx\u001b[0m in \u001b[0;36mpandas._libs.index.IndexEngine.get_loc\u001b[0;34m()\u001b[0m\n",
      "\u001b[0;32mpandas/_libs/index.pyx\u001b[0m in \u001b[0;36mpandas._libs.index.IndexEngine.get_loc\u001b[0;34m()\u001b[0m\n",
      "\u001b[0;31mTypeError\u001b[0m: '(array([ 187, 2501]),)' is an invalid key"
     ]
    }
   ],
   "source": [
    "pol = pol.assign(lat = 0, lng = 0, country = '', region = '', city='')\n",
    "for (i, address) in enumerate(np.unique(pol.full_address)):\n",
    "    indices = np.where(pol.full_address==address)\n",
    "    pol[indices].lat = geocoded_addresses[i][0]['geometry']['location']['lat']\n",
    "    pol[indices].lng = geocoded_addresses[i][0]['geometry']['location']['lng']\n",
    "    pol[indices].country = geocoded_addresses[i][0]['address_components'][-2]['long_name']\n",
    "    pol[indices].region = geocoded_addresses[i][0]['address_components'][-3]['long_name']\n",
    "    pol[indices].city = geocoded_addresses[i][0]['address_components'][-5]['long_name']"
   ]
  },
  {
   "cell_type": "code",
   "execution_count": 53,
   "metadata": {},
   "outputs": [
    {
     "data": {
      "text/plain": [
       "' Івано-Франківськ, Залізнична,30'"
      ]
     },
     "execution_count": 53,
     "metadata": {},
     "output_type": "execute_result"
    }
   ],
   "source": [
    "np.unique(pol.full_address)[0]"
   ]
  },
  {
   "cell_type": "code",
   "execution_count": 57,
   "metadata": {},
   "outputs": [
    {
     "ename": "KeyError",
     "evalue": "(1, 1)",
     "output_type": "error",
     "traceback": [
      "\u001b[0;31m--------------------------------------------------------\u001b[0m",
      "\u001b[0;31mKeyError\u001b[0m               Traceback (most recent call last)",
      "\u001b[0;32m/Library/Frameworks/Python.framework/Versions/3.6/lib/python3.6/site-packages/pandas/core/indexes/base.py\u001b[0m in \u001b[0;36mget_loc\u001b[0;34m(self, key, method, tolerance)\u001b[0m\n\u001b[1;32m   2656\u001b[0m             \u001b[0;32mtry\u001b[0m\u001b[0;34m:\u001b[0m\u001b[0;34m\u001b[0m\u001b[0m\n\u001b[0;32m-> 2657\u001b[0;31m                 \u001b[0;32mreturn\u001b[0m \u001b[0mself\u001b[0m\u001b[0;34m.\u001b[0m\u001b[0m_engine\u001b[0m\u001b[0;34m.\u001b[0m\u001b[0mget_loc\u001b[0m\u001b[0;34m(\u001b[0m\u001b[0mkey\u001b[0m\u001b[0;34m)\u001b[0m\u001b[0;34m\u001b[0m\u001b[0m\n\u001b[0m\u001b[1;32m   2658\u001b[0m             \u001b[0;32mexcept\u001b[0m \u001b[0mKeyError\u001b[0m\u001b[0;34m:\u001b[0m\u001b[0;34m\u001b[0m\u001b[0m\n",
      "\u001b[0;32mpandas/_libs/index.pyx\u001b[0m in \u001b[0;36mpandas._libs.index.IndexEngine.get_loc\u001b[0;34m()\u001b[0m\n",
      "\u001b[0;32mpandas/_libs/index.pyx\u001b[0m in \u001b[0;36mpandas._libs.index.IndexEngine.get_loc\u001b[0;34m()\u001b[0m\n",
      "\u001b[0;32mpandas/_libs/hashtable_class_helper.pxi\u001b[0m in \u001b[0;36mpandas._libs.hashtable.PyObjectHashTable.get_item\u001b[0;34m()\u001b[0m\n",
      "\u001b[0;32mpandas/_libs/hashtable_class_helper.pxi\u001b[0m in \u001b[0;36mpandas._libs.hashtable.PyObjectHashTable.get_item\u001b[0;34m()\u001b[0m\n",
      "\u001b[0;31mKeyError\u001b[0m: (1, 1)",
      "\nDuring handling of the above exception, another exception occurred:\n",
      "\u001b[0;31mKeyError\u001b[0m               Traceback (most recent call last)",
      "\u001b[0;32m<ipython-input-57-b0a3e511ac53>\u001b[0m in \u001b[0;36m<module>\u001b[0;34m()\u001b[0m\n\u001b[0;32m----> 1\u001b[0;31m \u001b[0mpol\u001b[0m\u001b[0;34m[\u001b[0m\u001b[0;36m1\u001b[0m\u001b[0;34m,\u001b[0m\u001b[0;36m1\u001b[0m\u001b[0;34m]\u001b[0m\u001b[0;34m\u001b[0m\u001b[0m\n\u001b[0m",
      "\u001b[0;32m/Library/Frameworks/Python.framework/Versions/3.6/lib/python3.6/site-packages/pandas/core/frame.py\u001b[0m in \u001b[0;36m__getitem__\u001b[0;34m(self, key)\u001b[0m\n\u001b[1;32m   2925\u001b[0m             \u001b[0;32mif\u001b[0m \u001b[0mself\u001b[0m\u001b[0;34m.\u001b[0m\u001b[0mcolumns\u001b[0m\u001b[0;34m.\u001b[0m\u001b[0mnlevels\u001b[0m \u001b[0;34m>\u001b[0m \u001b[0;36m1\u001b[0m\u001b[0;34m:\u001b[0m\u001b[0;34m\u001b[0m\u001b[0m\n\u001b[1;32m   2926\u001b[0m                 \u001b[0;32mreturn\u001b[0m \u001b[0mself\u001b[0m\u001b[0;34m.\u001b[0m\u001b[0m_getitem_multilevel\u001b[0m\u001b[0;34m(\u001b[0m\u001b[0mkey\u001b[0m\u001b[0;34m)\u001b[0m\u001b[0;34m\u001b[0m\u001b[0m\n\u001b[0;32m-> 2927\u001b[0;31m             \u001b[0mindexer\u001b[0m \u001b[0;34m=\u001b[0m \u001b[0mself\u001b[0m\u001b[0;34m.\u001b[0m\u001b[0mcolumns\u001b[0m\u001b[0;34m.\u001b[0m\u001b[0mget_loc\u001b[0m\u001b[0;34m(\u001b[0m\u001b[0mkey\u001b[0m\u001b[0;34m)\u001b[0m\u001b[0;34m\u001b[0m\u001b[0m\n\u001b[0m\u001b[1;32m   2928\u001b[0m             \u001b[0;32mif\u001b[0m \u001b[0mis_integer\u001b[0m\u001b[0;34m(\u001b[0m\u001b[0mindexer\u001b[0m\u001b[0;34m)\u001b[0m\u001b[0;34m:\u001b[0m\u001b[0;34m\u001b[0m\u001b[0m\n\u001b[1;32m   2929\u001b[0m                 \u001b[0mindexer\u001b[0m \u001b[0;34m=\u001b[0m \u001b[0;34m[\u001b[0m\u001b[0mindexer\u001b[0m\u001b[0;34m]\u001b[0m\u001b[0;34m\u001b[0m\u001b[0m\n",
      "\u001b[0;32m/Library/Frameworks/Python.framework/Versions/3.6/lib/python3.6/site-packages/pandas/core/indexes/base.py\u001b[0m in \u001b[0;36mget_loc\u001b[0;34m(self, key, method, tolerance)\u001b[0m\n\u001b[1;32m   2657\u001b[0m                 \u001b[0;32mreturn\u001b[0m \u001b[0mself\u001b[0m\u001b[0;34m.\u001b[0m\u001b[0m_engine\u001b[0m\u001b[0;34m.\u001b[0m\u001b[0mget_loc\u001b[0m\u001b[0;34m(\u001b[0m\u001b[0mkey\u001b[0m\u001b[0;34m)\u001b[0m\u001b[0;34m\u001b[0m\u001b[0m\n\u001b[1;32m   2658\u001b[0m             \u001b[0;32mexcept\u001b[0m \u001b[0mKeyError\u001b[0m\u001b[0;34m:\u001b[0m\u001b[0;34m\u001b[0m\u001b[0m\n\u001b[0;32m-> 2659\u001b[0;31m                 \u001b[0;32mreturn\u001b[0m \u001b[0mself\u001b[0m\u001b[0;34m.\u001b[0m\u001b[0m_engine\u001b[0m\u001b[0;34m.\u001b[0m\u001b[0mget_loc\u001b[0m\u001b[0;34m(\u001b[0m\u001b[0mself\u001b[0m\u001b[0;34m.\u001b[0m\u001b[0m_maybe_cast_indexer\u001b[0m\u001b[0;34m(\u001b[0m\u001b[0mkey\u001b[0m\u001b[0;34m)\u001b[0m\u001b[0;34m)\u001b[0m\u001b[0;34m\u001b[0m\u001b[0m\n\u001b[0m\u001b[1;32m   2660\u001b[0m         \u001b[0mindexer\u001b[0m \u001b[0;34m=\u001b[0m \u001b[0mself\u001b[0m\u001b[0;34m.\u001b[0m\u001b[0mget_indexer\u001b[0m\u001b[0;34m(\u001b[0m\u001b[0;34m[\u001b[0m\u001b[0mkey\u001b[0m\u001b[0;34m]\u001b[0m\u001b[0;34m,\u001b[0m \u001b[0mmethod\u001b[0m\u001b[0;34m=\u001b[0m\u001b[0mmethod\u001b[0m\u001b[0;34m,\u001b[0m \u001b[0mtolerance\u001b[0m\u001b[0;34m=\u001b[0m\u001b[0mtolerance\u001b[0m\u001b[0;34m)\u001b[0m\u001b[0;34m\u001b[0m\u001b[0m\n\u001b[1;32m   2661\u001b[0m         \u001b[0;32mif\u001b[0m \u001b[0mindexer\u001b[0m\u001b[0;34m.\u001b[0m\u001b[0mndim\u001b[0m \u001b[0;34m>\u001b[0m \u001b[0;36m1\u001b[0m \u001b[0;32mor\u001b[0m \u001b[0mindexer\u001b[0m\u001b[0;34m.\u001b[0m\u001b[0msize\u001b[0m \u001b[0;34m>\u001b[0m \u001b[0;36m1\u001b[0m\u001b[0;34m:\u001b[0m\u001b[0;34m\u001b[0m\u001b[0m\n",
      "\u001b[0;32mpandas/_libs/index.pyx\u001b[0m in \u001b[0;36mpandas._libs.index.IndexEngine.get_loc\u001b[0;34m()\u001b[0m\n",
      "\u001b[0;32mpandas/_libs/index.pyx\u001b[0m in \u001b[0;36mpandas._libs.index.IndexEngine.get_loc\u001b[0;34m()\u001b[0m\n",
      "\u001b[0;32mpandas/_libs/hashtable_class_helper.pxi\u001b[0m in \u001b[0;36mpandas._libs.hashtable.PyObjectHashTable.get_item\u001b[0;34m()\u001b[0m\n",
      "\u001b[0;32mpandas/_libs/hashtable_class_helper.pxi\u001b[0m in \u001b[0;36mpandas._libs.hashtable.PyObjectHashTable.get_item\u001b[0;34m()\u001b[0m\n",
      "\u001b[0;31mKeyError\u001b[0m: (1, 1)"
     ]
    }
   ],
   "source": [
    "pol[1,1]"
   ]
  },
  {
   "cell_type": "code",
   "execution_count": 39,
   "metadata": {},
   "outputs": [
    {
     "data": {
      "text/plain": [
       "{'long_name': 'Bydgoszcz',\n",
       " 'short_name': 'Bydgoszcz',\n",
       " 'types': ['locality', 'political']}"
      ]
     },
     "execution_count": 39,
     "metadata": {},
     "output_type": "execute_result"
    }
   ],
   "source": [
    "geocoded_addresses[57][0]['address_components'][-5]"
   ]
  },
  {
   "cell_type": "code",
   "execution_count": null,
   "metadata": {},
   "outputs": [],
   "source": []
  }
 ],
 "metadata": {
  "kernelspec": {
   "display_name": "Python 3",
   "language": "python",
   "name": "python3"
  },
  "language_info": {
   "codemirror_mode": {
    "name": "ipython",
    "version": 3
   },
   "file_extension": ".py",
   "mimetype": "text/x-python",
   "name": "python",
   "nbconvert_exporter": "python",
   "pygments_lexer": "ipython3",
   "version": "3.6.3"
  }
 },
 "nbformat": 4,
 "nbformat_minor": 2
}
